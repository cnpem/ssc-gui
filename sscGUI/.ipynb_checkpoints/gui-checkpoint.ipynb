{
 "cells": [
  {
   "cell_type": "code",
   "execution_count": 1,
   "id": "416e47f5-4cb3-45dc-ba6f-0229916ecf58",
   "metadata": {},
   "outputs": [
    {
     "data": {
      "application/vnd.jupyter.widget-view+json": {
       "model_id": "e0cac0b6ca94409ca8b39941b898f4d9",
       "version_major": 2,
       "version_minor": 0
      },
      "text/plain": [
       "Tab(children=(Box(children=(HTML(value=\"<b style='color:#00008B;font-size:18px;'>Machine Parameters</b>\"), Bou…"
      ]
     },
     "metadata": {},
     "output_type": "display_data"
    }
   ],
   "source": [
    "%matplotlib widget\n",
    "from sscGUI import misc, ptychography\n",
    "tabs, input_variables_dict = ptychography.deploy_tabs()\n",
    "display(tabs)"
   ]
  },
  {
   "cell_type": "code",
   "execution_count": 18,
   "id": "daa9c3a2-9118-463d-84b5-c8528c10ba27",
   "metadata": {
    "tags": []
   },
   "outputs": [],
   "source": [
    "# import numpy as np\n",
    "# # import matplotlib.pyplot as plt\n",
    "\n",
    "# path = \"./example/inputs/complex_sinogram2.npy\"\n",
    "# data = np.load(path)\n",
    "# path2 = \"./example/inputs/complex_sinogram.npy\"\n",
    "\n",
    "# # data.shape\n",
    "# # data = np.concatenate((data,np.flip(data,axis=1)),axis=0)\n",
    "# # data = np.concatenate((data,np.flip(data,axis=2)),axis=0)\n",
    "# # print(data.shape)\n",
    "# # plt.figure()\n",
    "# # plt.imshow(np.abs(data[0]))\n",
    "# data1 = np.abs(data)\n",
    "# wrap = 5*np.pi*(data - np.min(data))/np.max(data) - 2*np.pi\n",
    "# data2 = np.angle(wrap)\n",
    "# data = data1*np.exp(1j*data2)\n",
    "# np.save(path2,data)"
   ]
  },
  {
   "cell_type": "code",
   "execution_count": 3,
   "id": "d72a3df0-7424-4767-b8af-3f7bae5ce1ab",
   "metadata": {
    "tags": []
   },
   "outputs": [
    {
     "data": {
      "image/png": "[encoded data removed]",
      "text/plain": [
       "<Figure size 432x288 with 1 Axes>"
      ]
     },
     "metadata": {
      "needs_background": "light"
     },
     "output_type": "display_data"
    }
   ],
   "source": [
    "import numpy as np\n",
    "import matplotlib.pyplot as plt\n",
    "apath = \"/ibira/lnls/labs/tepui/home/yuri.tonin/00000000/data/ptycho3d/complex_phantom/model/processed_probe.npy\"\n",
    "data = np.load(apath)\n",
    "data2 = np.abs(data)\n",
    "plt.figure\n",
    "plt.imshow(data2)\n",
    "plt.show()\n",
    "\n",
    "probe = np.ones((16,data.shape[0],data.shape[1]))\n",
    "for i in range(probe.shape[0]):\n",
    "    probe[i] = data"
   ]
  },
  {
   "cell_type": "code",
   "execution_count": null,
   "id": "cdd11bc8-dbc4-4807-b14e-fe5edddace57",
   "metadata": {},
   "outputs": [],
   "source": []
  }
 ],
 "metadata": {
  "kernelspec": {
   "display_name": "Python 3 (ipykernel)",
   "language": "python",
   "name": "python3"
  },
  "language_info": {
   "codemirror_mode": {
    "name": "ipython",
    "version": 3
   },
   "file_extension": ".py",
   "mimetype": "text/x-python",
   "name": "python",
   "nbconvert_exporter": "python",
   "pygments_lexer": "ipython3",
   "version": "3.9.2"
  }
 },
 "nbformat": 4,
 "nbformat_minor": 5
}
