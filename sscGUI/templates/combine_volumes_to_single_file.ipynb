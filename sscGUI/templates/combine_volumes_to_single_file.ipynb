{
 "cells": [
  {
   "cell_type": "markdown",
   "metadata": {},
   "source": [
    "## Combine multiple reconstruction in single volume"
   ]
  },
  {
   "cell_type": "code",
   "execution_count": null,
   "metadata": {},
   "outputs": [],
   "source": [
    "import numpy as np\n",
    "\n",
    "\"\"\" LIST FILES HERE \"\"\"\n",
    "path_to_file_1 = 'testfolder/a.npy'\n",
    "path_to_file_2 = 'testfolder/b.npy'\n",
    "path_to_file_3 = 'testfolder/c.npy'\n",
    "\n",
    "def combine_volume(*args):\n",
    "    shape = np.load(args[0]).shape\n",
    "    volume = np.empty((0,shape[0],shape[1]))\n",
    "    for arg in args:\n",
    "        data = np.load(arg)\n",
    "        volume = np.concatenate((volume,data),axis=0)\n",
    "    print(f\"Final shape { volume.shape}\")\n",
    "    folder = args[0].rsplit('/')[0]\n",
    "    savename = args[0].rsplit('/')[1].split('.')[0] + \"_volume.npy\"\n",
    "    savepath = os.path.join(folder,savename)\n",
    "    np.save(savepath, volume)\n",
    "    print(\"Saved at: \",savepath)\n",
    "\n",
    "\"\"\" INSERT THE PATH TO FILES IN THE FUNCTION CALL \"\"\"\n",
    "combine_volume(path_to_file_1,path_to_file_2,path_to_file_3)"
   ]
  }
 ],
 "metadata": {
  "kernelspec": {
   "display_name": "Python 3",
   "language": "python",
   "name": "python3"
  },
  "language_info": {
   "codemirror_mode": {
    "name": "ipython",
    "version": 3
   },
   "file_extension": ".py",
   "mimetype": "text/x-python",
   "name": "python",
   "nbconvert_exporter": "python",
   "pygments_lexer": "ipython3",
   "version": "3.6.9"
  }
 },
 "nbformat": 4,
 "nbformat_minor": 4
}
