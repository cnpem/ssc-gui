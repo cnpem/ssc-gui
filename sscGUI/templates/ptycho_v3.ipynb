{
 "cells": [
  {
   "cell_type": "markdown",
   "metadata": {},
   "source": [
    "# GCC's ssc-cdi : Ptychography Interface for Cateretê, v3\n",
    "\n",
    "- #### ATTENTION: if you are running this for the first time, packages can be installed by setting install_packages = True\n",
    "- #### To visualize outputs in real time, open the log console at: View > Show Log Console\n",
    "- #### Questions? E-mail gcc@lnls.br\n",
    "- #### Installation and User guide [available here](https://10.10.10.141/ssc/wiki/). \n",
    "- #### Documentation about the ssc-cdi package: https://gcc.lnls.br/ssc/ssc-cdi/index.html\n",
    "- #### To use a test sample:\n",
    "    - Proposal path = /ibira/lnls/beamlines/caterete/apps/gcc-jupyter/00000000/data/ptycho2d/\n",
    "    - Data Folders = ['SS03112022_02']\n",
    "    - projections = [0]\n",
    "- #### About sscPimega:\n",
    "    - Measurements done up to July 1st, 2022: use version sscPimega = '0.0.4'\n",
    "    - Measurements made between July 2nd and October 23rd, 2022: use version sscPimega = '0.0.6'\n",
    "    - Measurements made from October 24th, 2022: use version sscPimega = '0.5.3'"
   ]
  },
  {
   "cell_type": "code",
   "execution_count": 1,
   "metadata": {
    "tags": []
   },
   "outputs": [
    {
     "data": {
      "application/vnd.jupyter.widget-view+json": {
       "model_id": "b94d7f7f096a4ce9bd168b4c02fb46b4",
       "version_major": 2,
       "version_minor": 0
      },
      "text/plain": [
       "VBox(children=(HBox(children=(RadioButtons(description='Machine', index=1, layout=Layout(width='10%'), options…"
      ]
     },
     "metadata": {},
     "output_type": "display_data"
    },
    {
     "data": {
      "application/vnd.jupyter.widget-view+json": {
       "model_id": "3d68bf0751f8461e9612507595ee65df",
       "version_major": 2,
       "version_minor": 0
      },
      "text/plain": [
       "Tab(children=(Box(children=(Box(children=(HTML(value=\"<b style='color:#00008B;font-size:18px;'>Data Selection<…"
      ]
     },
     "metadata": {},
     "output_type": "display_data"
    }
   ],
   "source": [
    "install_packages = False\n",
    "\n",
    "%matplotlib widget\n",
    "import sscInstall, os\n",
    "# server = sscInstall.connect_server()\n",
    "if install_packages:\n",
    "    print(\"\\nThe kernel will restart after installation. Please run the cell again using install_packages = False\")\n",
    "    sscInstall.install_jupyter(server,beamline='caterete',sscCdi='0.4.20',sscPtycho='2.1.1',sscPimega='0.6.15',sscRaft='2.0.1',sscRadon='1.0.0',sscResolution='0.5.5'), os._exit(00) # shutdown kernel. Required to import new installed packages\n",
    "from sscCdi import jupyter, jupyter_cat_ptycho\n",
    "header,tabs, input_variables_dict = jupyter_cat_ptycho.deploy_tabs(0)\n",
    "display(header,tabs)"
   ]
  },
  {
   "cell_type": "code",
   "execution_count": null,
   "metadata": {},
   "outputs": [],
   "source": []
  }
 ],
 "metadata": {
  "kernelspec": {
   "display_name": "Python 3 (ipykernel)",
   "language": "python",
   "name": "python3"
  },
  "language_info": {
   "codemirror_mode": {
    "name": "ipython",
    "version": 3
   },
   "file_extension": ".py",
   "mimetype": "text/x-python",
   "name": "python",
   "nbconvert_exporter": "python",
   "pygments_lexer": "ipython3",
   "version": "3.9.2"
  }
 },
 "nbformat": 4,
 "nbformat_minor": 4
}
