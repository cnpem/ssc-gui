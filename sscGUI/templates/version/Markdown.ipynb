{
 "cells": [
  {
   "cell_type": "markdown",
   "metadata": {},
   "source": [
    "# Version Control\n",
    "\n",
    "The version of packages should follow the three number rule: **vX.X.X**\n",
    "\n",
    "The numbering convention is illustrated in the Figure below. When there is a change to the a digit to the left, all the digits to the right should be reset to zero!\n",
    "\n",
    "- **Least significant digit (vx.x.X):** should be changed for minor modifications and bug fixes. It doesn't matter how big this digit gets. It is important that this is changed for every minor set of modifications, so that the PIP server receives the new version and it can be properly installed by the users. Making a modification without changing the version number will make PIP skip the installation when you run \"pip install\", since it will identify the same version number in the package name.\n",
    "\n",
    "- **Middle digit (vx.X.x):** should be changed when new features that are backwards compatible are added to the code\n",
    "\n",
    "- **Most significant digit (vX.x.x):** should be changed only when a new version of the code is no longer backwards compatible, i.e. the package can no longer be called and used in the same manner by the codes that currently use it!\n",
    "\n",
    "![VersionControl ><](v000.png \"Version control quick guide!\")\n",
    "    \n"
   ]
  }
 ],
 "metadata": {
  "kernelspec": {
   "display_name": "Python 3",
   "language": "python",
   "name": "python3"
  },
  "language_info": {
   "codemirror_mode": {
    "name": "ipython",
    "version": 3
   },
   "file_extension": ".py",
   "mimetype": "text/x-python",
   "name": "python",
   "nbconvert_exporter": "python",
   "pygments_lexer": "ipython3",
   "version": "3.6.9"
  }
 },
 "nbformat": 4,
 "nbformat_minor": 4
}
